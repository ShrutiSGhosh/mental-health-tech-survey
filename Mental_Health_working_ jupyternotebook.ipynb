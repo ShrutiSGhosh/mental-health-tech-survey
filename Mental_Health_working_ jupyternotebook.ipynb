{
 "cells": [
  {
   "cell_type": "markdown",
   "id": "477d6874-825b-4031-9586-5fd95eb534c7",
   "metadata": {},
   "source": [
    "Load the Data & Inspect It"
   ]
  },
  {
   "cell_type": "code",
   "execution_count": 9,
   "id": "a0b185f3-11d5-4144-95ae-1be98d63f563",
   "metadata": {},
   "outputs": [],
   "source": [
    "import pandas as pd"
   ]
  },
  {
   "cell_type": "code",
   "execution_count": 7,
   "id": "5806570f-d0c3-4e45-99a3-ec66ced7e617",
   "metadata": {},
   "outputs": [],
   "source": [
    "df = pd.read_csv(\"Project 2 - Mental health tech survey/survey.csv\")\n"
   ]
  },
  {
   "cell_type": "code",
   "execution_count": 8,
   "id": "d7b2a657-094b-4a27-a6aa-4fc548916f51",
   "metadata": {},
   "outputs": [
    {
     "data": {
      "text/html": [
       "<div>\n",
       "<style scoped>\n",
       "    .dataframe tbody tr th:only-of-type {\n",
       "        vertical-align: middle;\n",
       "    }\n",
       "\n",
       "    .dataframe tbody tr th {\n",
       "        vertical-align: top;\n",
       "    }\n",
       "\n",
       "    .dataframe thead th {\n",
       "        text-align: right;\n",
       "    }\n",
       "</style>\n",
       "<table border=\"1\" class=\"dataframe\">\n",
       "  <thead>\n",
       "    <tr style=\"text-align: right;\">\n",
       "      <th></th>\n",
       "      <th>Timestamp</th>\n",
       "      <th>Age</th>\n",
       "      <th>Gender</th>\n",
       "      <th>Country</th>\n",
       "      <th>state</th>\n",
       "      <th>self_employed</th>\n",
       "      <th>family_history</th>\n",
       "      <th>treatment</th>\n",
       "      <th>work_interfere</th>\n",
       "      <th>no_employees</th>\n",
       "      <th>...</th>\n",
       "      <th>leave</th>\n",
       "      <th>mental_health_consequence</th>\n",
       "      <th>phys_health_consequence</th>\n",
       "      <th>coworkers</th>\n",
       "      <th>supervisor</th>\n",
       "      <th>mental_health_interview</th>\n",
       "      <th>phys_health_interview</th>\n",
       "      <th>mental_vs_physical</th>\n",
       "      <th>obs_consequence</th>\n",
       "      <th>comments</th>\n",
       "    </tr>\n",
       "  </thead>\n",
       "  <tbody>\n",
       "    <tr>\n",
       "      <th>0</th>\n",
       "      <td>2014-08-27 11:29:31</td>\n",
       "      <td>37</td>\n",
       "      <td>Female</td>\n",
       "      <td>United States</td>\n",
       "      <td>IL</td>\n",
       "      <td>NaN</td>\n",
       "      <td>No</td>\n",
       "      <td>Yes</td>\n",
       "      <td>Often</td>\n",
       "      <td>6-25</td>\n",
       "      <td>...</td>\n",
       "      <td>Somewhat easy</td>\n",
       "      <td>No</td>\n",
       "      <td>No</td>\n",
       "      <td>Some of them</td>\n",
       "      <td>Yes</td>\n",
       "      <td>No</td>\n",
       "      <td>Maybe</td>\n",
       "      <td>Yes</td>\n",
       "      <td>No</td>\n",
       "      <td>NaN</td>\n",
       "    </tr>\n",
       "    <tr>\n",
       "      <th>1</th>\n",
       "      <td>2014-08-27 11:29:37</td>\n",
       "      <td>44</td>\n",
       "      <td>M</td>\n",
       "      <td>United States</td>\n",
       "      <td>IN</td>\n",
       "      <td>NaN</td>\n",
       "      <td>No</td>\n",
       "      <td>No</td>\n",
       "      <td>Rarely</td>\n",
       "      <td>More than 1000</td>\n",
       "      <td>...</td>\n",
       "      <td>Don't know</td>\n",
       "      <td>Maybe</td>\n",
       "      <td>No</td>\n",
       "      <td>No</td>\n",
       "      <td>No</td>\n",
       "      <td>No</td>\n",
       "      <td>No</td>\n",
       "      <td>Don't know</td>\n",
       "      <td>No</td>\n",
       "      <td>NaN</td>\n",
       "    </tr>\n",
       "    <tr>\n",
       "      <th>2</th>\n",
       "      <td>2014-08-27 11:29:44</td>\n",
       "      <td>32</td>\n",
       "      <td>Male</td>\n",
       "      <td>Canada</td>\n",
       "      <td>NaN</td>\n",
       "      <td>NaN</td>\n",
       "      <td>No</td>\n",
       "      <td>No</td>\n",
       "      <td>Rarely</td>\n",
       "      <td>6-25</td>\n",
       "      <td>...</td>\n",
       "      <td>Somewhat difficult</td>\n",
       "      <td>No</td>\n",
       "      <td>No</td>\n",
       "      <td>Yes</td>\n",
       "      <td>Yes</td>\n",
       "      <td>Yes</td>\n",
       "      <td>Yes</td>\n",
       "      <td>No</td>\n",
       "      <td>No</td>\n",
       "      <td>NaN</td>\n",
       "    </tr>\n",
       "    <tr>\n",
       "      <th>3</th>\n",
       "      <td>2014-08-27 11:29:46</td>\n",
       "      <td>31</td>\n",
       "      <td>Male</td>\n",
       "      <td>United Kingdom</td>\n",
       "      <td>NaN</td>\n",
       "      <td>NaN</td>\n",
       "      <td>Yes</td>\n",
       "      <td>Yes</td>\n",
       "      <td>Often</td>\n",
       "      <td>26-100</td>\n",
       "      <td>...</td>\n",
       "      <td>Somewhat difficult</td>\n",
       "      <td>Yes</td>\n",
       "      <td>Yes</td>\n",
       "      <td>Some of them</td>\n",
       "      <td>No</td>\n",
       "      <td>Maybe</td>\n",
       "      <td>Maybe</td>\n",
       "      <td>No</td>\n",
       "      <td>Yes</td>\n",
       "      <td>NaN</td>\n",
       "    </tr>\n",
       "    <tr>\n",
       "      <th>4</th>\n",
       "      <td>2014-08-27 11:30:22</td>\n",
       "      <td>31</td>\n",
       "      <td>Male</td>\n",
       "      <td>United States</td>\n",
       "      <td>TX</td>\n",
       "      <td>NaN</td>\n",
       "      <td>No</td>\n",
       "      <td>No</td>\n",
       "      <td>Never</td>\n",
       "      <td>100-500</td>\n",
       "      <td>...</td>\n",
       "      <td>Don't know</td>\n",
       "      <td>No</td>\n",
       "      <td>No</td>\n",
       "      <td>Some of them</td>\n",
       "      <td>Yes</td>\n",
       "      <td>Yes</td>\n",
       "      <td>Yes</td>\n",
       "      <td>Don't know</td>\n",
       "      <td>No</td>\n",
       "      <td>NaN</td>\n",
       "    </tr>\n",
       "  </tbody>\n",
       "</table>\n",
       "<p>5 rows × 27 columns</p>\n",
       "</div>"
      ],
      "text/plain": [
       "             Timestamp  Age  Gender         Country state self_employed  \\\n",
       "0  2014-08-27 11:29:31   37  Female   United States    IL           NaN   \n",
       "1  2014-08-27 11:29:37   44       M   United States    IN           NaN   \n",
       "2  2014-08-27 11:29:44   32    Male          Canada   NaN           NaN   \n",
       "3  2014-08-27 11:29:46   31    Male  United Kingdom   NaN           NaN   \n",
       "4  2014-08-27 11:30:22   31    Male   United States    TX           NaN   \n",
       "\n",
       "  family_history treatment work_interfere    no_employees  ...  \\\n",
       "0             No       Yes          Often            6-25  ...   \n",
       "1             No        No         Rarely  More than 1000  ...   \n",
       "2             No        No         Rarely            6-25  ...   \n",
       "3            Yes       Yes          Often          26-100  ...   \n",
       "4             No        No          Never         100-500  ...   \n",
       "\n",
       "                leave mental_health_consequence phys_health_consequence  \\\n",
       "0       Somewhat easy                        No                      No   \n",
       "1          Don't know                     Maybe                      No   \n",
       "2  Somewhat difficult                        No                      No   \n",
       "3  Somewhat difficult                       Yes                     Yes   \n",
       "4          Don't know                        No                      No   \n",
       "\n",
       "      coworkers supervisor mental_health_interview phys_health_interview  \\\n",
       "0  Some of them        Yes                      No                 Maybe   \n",
       "1            No         No                      No                    No   \n",
       "2           Yes        Yes                     Yes                   Yes   \n",
       "3  Some of them         No                   Maybe                 Maybe   \n",
       "4  Some of them        Yes                     Yes                   Yes   \n",
       "\n",
       "  mental_vs_physical obs_consequence comments  \n",
       "0                Yes              No      NaN  \n",
       "1         Don't know              No      NaN  \n",
       "2                 No              No      NaN  \n",
       "3                 No             Yes      NaN  \n",
       "4         Don't know              No      NaN  \n",
       "\n",
       "[5 rows x 27 columns]"
      ]
     },
     "execution_count": 8,
     "metadata": {},
     "output_type": "execute_result"
    }
   ],
   "source": [
    "df.head()"
   ]
  },
  {
   "cell_type": "markdown",
   "id": "c292358d-21d1-4eec-afdc-23951b2525bf",
   "metadata": {},
   "source": [
    "Fix the Timestamp Column"
   ]
  },
  {
   "cell_type": "markdown",
   "id": "59cd8056-4ed5-4b87-bdc5-6fa41699de39",
   "metadata": {},
   "source": [
    "Convert Timestamp to datetime, force invalid ones to NaT"
   ]
  },
  {
   "cell_type": "code",
   "execution_count": 10,
   "id": "adf82e7f-1cdf-42bc-aff5-0f6ffd3519ae",
   "metadata": {},
   "outputs": [],
   "source": [
    "df['Timestamp'] = pd.to_datetime(df['Timestamp'], errors='coerce')"
   ]
  },
  {
   "cell_type": "markdown",
   "id": "b573dbf9-b507-4250-a351-0abbf9e3a63b",
   "metadata": {},
   "source": [
    "Count how many are invalid"
   ]
  },
  {
   "cell_type": "code",
   "execution_count": 11,
   "id": "6f1412d0-257f-48c8-b413-59d614647a0e",
   "metadata": {},
   "outputs": [
    {
     "name": "stdout",
     "output_type": "stream",
     "text": [
      "Missing timestamps: 0\n"
     ]
    }
   ],
   "source": [
    "print(\"Missing timestamps:\", df['Timestamp'].isna().sum())"
   ]
  },
  {
   "cell_type": "markdown",
   "id": "9b48f827-a458-4f99-8ad7-0ce43968e9e0",
   "metadata": {},
   "source": [
    "Clean Age Column. We’ll convert to numeric, and remove strange values like 99999999999, -1726, etc."
   ]
  },
  {
   "cell_type": "markdown",
   "id": "dc7cd01d-a243-4908-9668-99d3ea2d1a1a",
   "metadata": {},
   "source": [
    "Convert Age to numeric, make invalid ones NaN"
   ]
  },
  {
   "cell_type": "code",
   "execution_count": 12,
   "id": "3bc6a5f0-e1fc-4737-89e9-94033e79e4fa",
   "metadata": {},
   "outputs": [],
   "source": [
    "df['Age'] = pd.to_numeric(df['Age'], errors='coerce')"
   ]
  },
  {
   "cell_type": "markdown",
   "id": "0ddd53a6-53ea-4066-bbfe-75dbd3c238c0",
   "metadata": {},
   "source": [
    "Remove outliers."
   ]
  },
  {
   "cell_type": "code",
   "execution_count": 13,
   "id": "1c02bc47-7411-4e8f-b2f7-4308aca229fb",
   "metadata": {},
   "outputs": [],
   "source": [
    "df = df[(df['Age'] >= 16) & (df['Age'] <= 100)]"
   ]
  },
  {
   "cell_type": "markdown",
   "id": "8079271d-5973-4b28-aeec-b8a064deabcc",
   "metadata": {},
   "source": [
    "Confirm cleaned values."
   ]
  },
  {
   "cell_type": "code",
   "execution_count": 14,
   "id": "7cac58f0-a421-45cc-aacf-13022739a28d",
   "metadata": {},
   "outputs": [
    {
     "data": {
      "text/plain": [
       "count    1251.000000\n",
       "mean       32.076739\n",
       "std         7.288272\n",
       "min        18.000000\n",
       "25%        27.000000\n",
       "50%        31.000000\n",
       "75%        36.000000\n",
       "max        72.000000\n",
       "Name: Age, dtype: float64"
      ]
     },
     "execution_count": 14,
     "metadata": {},
     "output_type": "execute_result"
    }
   ],
   "source": [
    "df['Age'].describe()"
   ]
  },
  {
   "cell_type": "markdown",
   "id": "1329b4e4-8bd0-41bf-99be-626a5adc7d63",
   "metadata": {},
   "source": [
    "Clean Gender Column"
   ]
  },
  {
   "cell_type": "code",
   "execution_count": 15,
   "id": "1aadad07-f22b-4d30-8ec6-cd280e72a425",
   "metadata": {},
   "outputs": [
    {
     "data": {
      "text/plain": [
       "Gender\n",
       "Male           975\n",
       "Female         241\n",
       "Other           25\n",
       "Non-binary       6\n",
       "Transgender      4\n",
       "Name: count, dtype: int64"
      ]
     },
     "execution_count": 15,
     "metadata": {},
     "output_type": "execute_result"
    }
   ],
   "source": [
    "def clean_gender(gender):\n",
    "    gender = str(gender).strip().lower()\n",
    "    if gender in ['male', 'm', 'cis male', 'male (cis)', 'guy (-ish) ^_^', 'something kinda male?']:\n",
    "        return 'Male'\n",
    "    elif gender in ['female', 'f', 'cis female', 'female (cis)', 'femake']:\n",
    "        return 'Female'\n",
    "    elif 'trans' in gender:\n",
    "        return 'Transgender'\n",
    "    elif 'queer' in gender or 'non' in gender or 'fluid' in gender or 'androgyne' in gender:\n",
    "        return 'Non-binary'\n",
    "    else:\n",
    "        return 'Other'\n",
    "\n",
    "df['Gender'] = df['Gender'].apply(clean_gender)\n",
    "df['Gender'].value_counts()"
   ]
  },
  {
   "cell_type": "markdown",
   "id": "d921e228-4e7d-49e8-85e9-43146b26a713",
   "metadata": {},
   "source": [
    "Fix a Sample Categorical Column (e.g., Treatment)"
   ]
  },
  {
   "cell_type": "code",
   "execution_count": 16,
   "id": "b13a4fdf-dbe3-4061-ab8d-4ecfe2a22b08",
   "metadata": {},
   "outputs": [
    {
     "data": {
      "text/plain": [
       "treatment\n",
       "Yes    632\n",
       "No     619\n",
       "Name: count, dtype: int64"
      ]
     },
     "execution_count": 16,
     "metadata": {},
     "output_type": "execute_result"
    }
   ],
   "source": [
    "df['treatment'] = df['treatment'].str.strip().str.capitalize()\n",
    "df['treatment'].value_counts()\n"
   ]
  },
  {
   "cell_type": "code",
   "execution_count": 17,
   "id": "6b222b33-cf9e-4217-8456-56b4cb333aca",
   "metadata": {},
   "outputs": [
    {
     "data": {
      "text/plain": [
       "family_history\n",
       "No     762\n",
       "Yes    489\n",
       "Name: count, dtype: int64"
      ]
     },
     "execution_count": 17,
     "metadata": {},
     "output_type": "execute_result"
    }
   ],
   "source": [
    "df['family_history'] = df['family_history'].str.strip().str.capitalize()\n",
    "df['family_history'].value_counts()"
   ]
  },
  {
   "cell_type": "code",
   "execution_count": 18,
   "id": "c59224cd-d43a-4638-b75f-deed545c1d14",
   "metadata": {},
   "outputs": [
    {
     "data": {
      "text/plain": [
       "work_interfere\n",
       "Sometimes    464\n",
       "Never        212\n",
       "Rarely       173\n",
       "Often        140\n",
       "Name: count, dtype: int64"
      ]
     },
     "execution_count": 18,
     "metadata": {},
     "output_type": "execute_result"
    }
   ],
   "source": [
    "df['work_interfere'] = df['work_interfere'].str.strip().str.capitalize()\n",
    "df['work_interfere'].value_counts()"
   ]
  },
  {
   "cell_type": "code",
   "execution_count": 19,
   "id": "0e50ded5-f1b6-41bd-bb88-6103688c1fbb",
   "metadata": {},
   "outputs": [
    {
     "data": {
      "text/plain": [
       "benefits\n",
       "Yes           473\n",
       "Don't know    407\n",
       "No            371\n",
       "Name: count, dtype: int64"
      ]
     },
     "execution_count": 19,
     "metadata": {},
     "output_type": "execute_result"
    }
   ],
   "source": [
    "df['benefits'] = df['benefits'].str.strip().str.capitalize()\n",
    "df['benefits'].value_counts()"
   ]
  },
  {
   "cell_type": "code",
   "execution_count": 20,
   "id": "4a54d25b-3c2b-4498-836d-60ef82ca711c",
   "metadata": {},
   "outputs": [
    {
     "data": {
      "text/plain": [
       "seek_help\n",
       "No            641\n",
       "Don't know    363\n",
       "Yes           247\n",
       "Name: count, dtype: int64"
      ]
     },
     "execution_count": 20,
     "metadata": {},
     "output_type": "execute_result"
    }
   ],
   "source": [
    "df['seek_help'] = df['seek_help'].str.strip().str.capitalize()\n",
    "df['seek_help'].value_counts()"
   ]
  },
  {
   "cell_type": "code",
   "execution_count": 21,
   "id": "7b02fa36-4849-47a4-b606-ae85193e006b",
   "metadata": {},
   "outputs": [
    {
     "data": {
      "text/plain": [
       "anonymity\n",
       "Don't know    815\n",
       "Yes           372\n",
       "No             64\n",
       "Name: count, dtype: int64"
      ]
     },
     "execution_count": 21,
     "metadata": {},
     "output_type": "execute_result"
    }
   ],
   "source": [
    "df['anonymity'] = df['anonymity'].str.strip().str.capitalize()\n",
    "df['anonymity'].value_counts()"
   ]
  },
  {
   "cell_type": "code",
   "execution_count": 22,
   "id": "a34f357f-43cc-47fa-933e-1602fe3ee7e9",
   "metadata": {},
   "outputs": [
    {
     "data": {
      "text/plain": [
       "leave\n",
       "Don't know            561\n",
       "Somewhat easy         265\n",
       "Very easy             203\n",
       "Somewhat difficult    125\n",
       "Very difficult         97\n",
       "Name: count, dtype: int64"
      ]
     },
     "execution_count": 22,
     "metadata": {},
     "output_type": "execute_result"
    }
   ],
   "source": [
    "df['leave'] = df['leave'].str.strip().str.capitalize()\n",
    "df['leave'].value_counts()"
   ]
  },
  {
   "cell_type": "code",
   "execution_count": 23,
   "id": "d4eb4b50-fb4e-43a2-8eb6-e7fa54946aa5",
   "metadata": {},
   "outputs": [
    {
     "data": {
      "text/plain": [
       "mental_health_consequence\n",
       "No       487\n",
       "Maybe    476\n",
       "Yes      288\n",
       "Name: count, dtype: int64"
      ]
     },
     "execution_count": 23,
     "metadata": {},
     "output_type": "execute_result"
    }
   ],
   "source": [
    "df['mental_health_consequence'] = df['mental_health_consequence'].str.strip().str.capitalize()\n",
    "df['mental_health_consequence'].value_counts()"
   ]
  },
  {
   "cell_type": "markdown",
   "id": "e801011c-a75a-46a6-bb2e-7c0517e01f2a",
   "metadata": {},
   "source": [
    "Save cleaned dataset to a new CSV file"
   ]
  },
  {
   "cell_type": "markdown",
   "id": "678a0613-63c1-4319-8ae3-02607b1c0c99",
   "metadata": {},
   "source": [
    "df.to_csv(\"cleaned_survey.csv\", index=False)"
   ]
  },
  {
   "cell_type": "markdown",
   "id": "5780b57d-5ed1-4a7b-afdb-12a9a18cf037",
   "metadata": {},
   "source": [
    "EDA"
   ]
  },
  {
   "cell_type": "markdown",
   "id": "61963ebd-c9c1-4ebd-8b5f-4395b6b6d252",
   "metadata": {},
   "source": [
    "# How does mental health illness and attitudes vary by geographic location? #\n",
    "We’ll explore:\n",
    "\n",
    "Treatment by country\n",
    "\n",
    "Attitudes like leave, benefits, mental_vs_physical by country"
   ]
  },
  {
   "cell_type": "markdown",
   "id": "d306113b-8fa3-4a2e-a9f5-2bca49a70702",
   "metadata": {},
   "source": [
    "1. Filter Top Countries (for clarity) focusing on countries with more responses:"
   ]
  },
  {
   "cell_type": "code",
   "execution_count": 48,
   "id": "265d6622-0c5f-496e-a464-3e7247a00a7b",
   "metadata": {},
   "outputs": [],
   "source": [
    "# Step 1: Get top 5 countries with most responses\n",
    "top_countries = df['Country'].value_counts().head(5).index\n",
    "\n",
    "# Step 2: Create a new filtered DataFrame\n",
    "df_top = df[df['Country'].isin(top_countries)]\n"
   ]
  },
  {
   "cell_type": "markdown",
   "id": "aa370381-11f0-481b-a47d-ace3ed7c72a1",
   "metadata": {},
   "source": [
    "2. Crosstab: Country vs Treatment:\n",
    "\n",
    "   This tells us how treatment-seeking varies by geography."
   ]
  },
  {
   "cell_type": "code",
   "execution_count": 60,
   "id": "72f73537-518f-4ffa-a51e-1e879f180070",
   "metadata": {},
   "outputs": [
    {
     "data": {
      "image/png": "[encoded data removed]",
      "text/plain": [
       "<Figure size 800x600 with 1 Axes>"
      ]
     },
     "metadata": {},
     "output_type": "display_data"
    }
   ],
   "source": [
    "import pandas as pd\n",
    "import matplotlib.pyplot as plt\n",
    "\n",
    "\n",
    "# Step 1: Create crosstab with percentages\n",
    "ctab = pd.crosstab(df_top['Country'], df_top['treatment'], normalize='index') * 100\n",
    "\n",
    "# Step 2: Plot\n",
    "ax = ctab.plot(kind='bar', stacked=True, figsize=(8, 6), colormap='Set2')\n",
    "\n",
    "# Step 3: Add % labels\n",
    "for i, country in enumerate(ctab.index):\n",
    "    y_offset = 0\n",
    "    for col in ctab.columns:\n",
    "        value = ctab.loc[country, col]\n",
    "        ax.text(i, y_offset + value / 2, f'{value:.1f}%', ha='center', va='center', fontsize=10)\n",
    "        y_offset += value\n",
    "\n",
    "# Final touches\n",
    "plt.title(\"Treatment by Country (%)\")\n",
    "plt.xlabel(\"Country\")\n",
    "plt.ylabel(\"Percentage\")\n",
    "plt.legend(title=\"Treatment\")\n",
    "plt.xticks(rotation=0)\n",
    "plt.tight_layout()\n",
    "plt.show()\n"
   ]
  },
  {
   "cell_type": "markdown",
   "id": "ee9ff734-6f1d-4450-8af9-7535720774bc",
   "metadata": {
    "jp-MarkdownHeadingCollapsed": true
   },
   "source": [
    "# In countries like the United States and Canada, a relatively higher percentage of people report seeking mental health treatment (around 51% and 55% respectively).\n",
    "# In the United Kingdom, treatment-seeking is evenly split, with 50% of respondents choosing to seek help.\n",
    "# However, in the Netherlands, only 33% report seeking treatment, while 67% choose not to, suggesting a significantly lower likelihood of mental health help-seeking compared to other top countries.\n",
    "# This variation may reflect differences in workplace culture, mental health support systems, or societal openness toward mental health discussions across countries."
   ]
  },
  {
   "cell_type": "markdown",
   "id": "3825c761-dbc8-48c6-8a66-ba92d519c4e0",
   "metadata": {},
   "source": [
    "# What are the strongest predictors of mental health illness or attitudes?”\n",
    "\n",
    "We explore relationships like:\n",
    "\n",
    "family_history vs treatment\n",
    "\n",
    "benefits vs treatment\n",
    "\n",
    "anonymity vs seek_help"
   ]
  },
  {
   "cell_type": "markdown",
   "id": "0c528fe4-0b57-4a67-8e58-a4412c378e74",
   "metadata": {},
   "source": [
    "1. Filter Top Countries (for clarity)\n",
    "to reduce clutter by focusing on countries with more responses:"
   ]
  },
  {
   "cell_type": "code",
   "execution_count": 52,
   "id": "ad34c783-d590-4853-a699-8d1cae669fb3",
   "metadata": {},
   "outputs": [],
   "source": [
    "# Step 1: Get top 5 countries with most responses\n",
    "top_countries = df['Country'].value_counts().head(5).index\n",
    "\n",
    "# Step 2: Create a new filtered DataFrame\n",
    "df_top = df[df['Country'].isin(top_countries)]"
   ]
  },
  {
   "cell_type": "markdown",
   "id": "c7c3bb39-12d1-4545-9aa0-c54e0045346a",
   "metadata": {},
   "source": [
    "2. Crosstab: Family History vs Treatment\n",
    "\n",
    " This shows if people with family history are more likely to seek treatment."
   ]
  },
  {
   "cell_type": "code",
   "execution_count": 56,
   "id": "6c2052b6-65f9-4056-8654-274a5cb4aae5",
   "metadata": {},
   "outputs": [
    {
     "data": {
      "text/html": [
       "<div>\n",
       "<style scoped>\n",
       "    .dataframe tbody tr th:only-of-type {\n",
       "        vertical-align: middle;\n",
       "    }\n",
       "\n",
       "    .dataframe tbody tr th {\n",
       "        vertical-align: top;\n",
       "    }\n",
       "\n",
       "    .dataframe thead th {\n",
       "        text-align: right;\n",
       "    }\n",
       "</style>\n",
       "<table border=\"1\" class=\"dataframe\">\n",
       "  <thead>\n",
       "    <tr style=\"text-align: right;\">\n",
       "      <th>treatment</th>\n",
       "      <th>No</th>\n",
       "      <th>Yes</th>\n",
       "    </tr>\n",
       "    <tr>\n",
       "      <th>family_history</th>\n",
       "      <th></th>\n",
       "      <th></th>\n",
       "    </tr>\n",
       "  </thead>\n",
       "  <tbody>\n",
       "    <tr>\n",
       "      <th>No</th>\n",
       "      <td>62.539185</td>\n",
       "      <td>37.460815</td>\n",
       "    </tr>\n",
       "    <tr>\n",
       "      <th>Yes</th>\n",
       "      <td>24.770642</td>\n",
       "      <td>75.229358</td>\n",
       "    </tr>\n",
       "  </tbody>\n",
       "</table>\n",
       "</div>"
      ],
      "text/plain": [
       "treatment              No        Yes\n",
       "family_history                      \n",
       "No              62.539185  37.460815\n",
       "Yes             24.770642  75.229358"
      ]
     },
     "execution_count": 56,
     "metadata": {},
     "output_type": "execute_result"
    }
   ],
   "source": [
    "pd.crosstab(df_top['family_history'], df_top['treatment'], normalize='index') * 100"
   ]
  },
  {
   "cell_type": "code",
   "execution_count": 59,
   "id": "255380ea-cd40-408b-985f-ae1b8d48bcef",
   "metadata": {},
   "outputs": [
    {
     "data": {
      "image/png": "[encoded data removed]",
      "text/plain": [
       "<Figure size 700x500 with 1 Axes>"
      ]
     },
     "metadata": {},
     "output_type": "display_data"
    }
   ],
   "source": [
    "import pandas as pd\n",
    "import matplotlib.pyplot as plt\n",
    "\n",
    "# Step 1: Create percentage crosstab\n",
    "ctab = pd.crosstab(df_top['family_history'], df_top['treatment'], normalize='index') * 100\n",
    "\n",
    "# Step 2: Plot using pandas' built-in bar chart\n",
    "ax = ctab.plot(kind='bar', stacked=True, figsize=(7, 5), colormap='Set2')\n",
    "\n",
    "# Step 3: Add percentage labels to each bar\n",
    "for i, index in enumerate(ctab.index):\n",
    "    y_offset = 0\n",
    "    for col in ctab.columns:\n",
    "        value = ctab.loc[index, col]\n",
    "        ax.text(i, y_offset + value / 2, f'{value:.1f}%', ha='center', va='center', fontsize=10)\n",
    "        y_offset += value\n",
    "\n",
    "# Step 4: Format chart\n",
    "plt.title(\"Treatment by Family History (%)\")\n",
    "plt.xlabel(\"Family History\")\n",
    "plt.ylabel(\"Percentage\")\n",
    "plt.legend(title=\"Treatment\")\n",
    "plt.xticks(rotation=0)\n",
    "plt.tight_layout()\n",
    "plt.show()\n"
   ]
  },
  {
   "cell_type": "markdown",
   "id": "8da92cc4-11e0-496a-ab12-c71b00c9b6f6",
   "metadata": {},
   "source": [
    "# Among respondents from the top 5 countries, those with a family history of mental illness are significantly more likely to seek treatment.\n",
    "# As the chart shows, 75% of individuals with a family history sought help, compared to only 37% without such a history.\n",
    "# This suggests that personal or family exposure to mental health issues may improve awareness or reduce stigma around seeking support.**"
   ]
  },
  {
   "cell_type": "markdown",
   "id": "81f51912-4cc3-484f-9a8b-9ea35f4c6f66",
   "metadata": {},
   "source": [
    "3. Crosstab: Benefits vs Treatment\n",
    "\n",
    "     It helps answer do benefits matter?  \n",
    " "
   ]
  },
  {
   "cell_type": "code",
   "execution_count": 57,
   "id": "7dd7d9d1-3662-4e49-b03d-522dbd39785d",
   "metadata": {},
   "outputs": [
    {
     "data": {
      "text/html": [
       "<div>\n",
       "<style scoped>\n",
       "    .dataframe tbody tr th:only-of-type {\n",
       "        vertical-align: middle;\n",
       "    }\n",
       "\n",
       "    .dataframe tbody tr th {\n",
       "        vertical-align: top;\n",
       "    }\n",
       "\n",
       "    .dataframe thead th {\n",
       "        text-align: right;\n",
       "    }\n",
       "</style>\n",
       "<table border=\"1\" class=\"dataframe\">\n",
       "  <thead>\n",
       "    <tr style=\"text-align: right;\">\n",
       "      <th>treatment</th>\n",
       "      <th>No</th>\n",
       "      <th>Yes</th>\n",
       "    </tr>\n",
       "    <tr>\n",
       "      <th>benefits</th>\n",
       "      <th></th>\n",
       "      <th></th>\n",
       "    </tr>\n",
       "  </thead>\n",
       "  <tbody>\n",
       "    <tr>\n",
       "      <th>Don't know</th>\n",
       "      <td>61.173184</td>\n",
       "      <td>38.826816</td>\n",
       "    </tr>\n",
       "    <tr>\n",
       "      <th>No</th>\n",
       "      <td>47.908745</td>\n",
       "      <td>52.091255</td>\n",
       "    </tr>\n",
       "    <tr>\n",
       "      <th>Yes</th>\n",
       "      <td>35.761589</td>\n",
       "      <td>64.238411</td>\n",
       "    </tr>\n",
       "  </tbody>\n",
       "</table>\n",
       "</div>"
      ],
      "text/plain": [
       "treatment          No        Yes\n",
       "benefits                        \n",
       "Don't know  61.173184  38.826816\n",
       "No          47.908745  52.091255\n",
       "Yes         35.761589  64.238411"
      ]
     },
     "execution_count": 57,
     "metadata": {},
     "output_type": "execute_result"
    }
   ],
   "source": [
    "pd.crosstab(df_top['benefits'], df_top['treatment'], normalize='index') * 100"
   ]
  },
  {
   "cell_type": "code",
   "execution_count": 65,
   "id": "c18d6643-6ce8-479e-9f20-ef33307aff9a",
   "metadata": {},
   "outputs": [
    {
     "data": {
      "image/png": "[encoded data removed]",
      "text/plain": [
       "<Figure size 700x500 with 1 Axes>"
      ]
     },
     "metadata": {},
     "output_type": "display_data"
    }
   ],
   "source": [
    "# Step 1: Crosstab\n",
    "ctab = pd.crosstab(df['benefits'], df['treatment'], normalize='index') * 100\n",
    "\n",
    "# Step 2: Plot\n",
    "ax = ctab.plot(kind='bar', stacked=True, figsize=(7, 5), colormap='Pastel1')\n",
    "\n",
    "# Step 3: % labels\n",
    "for i, benefit in enumerate(ctab.index):\n",
    "    y_offset = 0\n",
    "    for col in ctab.columns:\n",
    "        value = ctab.loc[benefit, col]\n",
    "        ax.text(i, y_offset + value / 2, f'{value:.1f}%', ha='center', va='center', fontsize=10)\n",
    "        y_offset += value\n",
    "\n",
    "# Final touches\n",
    "plt.title(\"Treatment by Benefits (%)\")\n",
    "plt.xlabel(\"Mental Health Benefits Provided\")\n",
    "plt.ylabel(\"Percentage\")\n",
    "plt.legend(title=\"Treatment\")\n",
    "plt.xticks(rotation=0)\n",
    "plt.tight_layout()\n",
    "plt.show()\n"
   ]
  },
  {
   "cell_type": "markdown",
   "id": "0653538a-817e-43be-b981-1ba239cd121e",
   "metadata": {},
   "source": [
    "# Employees who are aware of having mental health benefits through their employer are significantly more likely to seek treatment (64%) compared to those without benefits (48%) or those unsure about their coverage (37%).\n",
    "# This trend suggests that clear communication and availability of benefits can play a crucial role in encouraging treatment-seeking behavior.\n",
    "# Promoting awareness of available mental health support may be just as important as offering the support itself."
   ]
  },
  {
   "cell_type": "markdown",
   "id": "9b4ded70-1896-4349-abee-4ad9582f2b75",
   "metadata": {},
   "source": [
    "# Do employees with care options feel more confident seeking help?"
   ]
  },
  {
   "cell_type": "code",
   "execution_count": 34,
   "id": "64b67d72-5055-4530-afae-4fe26b8fdba9",
   "metadata": {},
   "outputs": [
    {
     "data": {
      "text/html": [
       "<div>\n",
       "<style scoped>\n",
       "    .dataframe tbody tr th:only-of-type {\n",
       "        vertical-align: middle;\n",
       "    }\n",
       "\n",
       "    .dataframe tbody tr th {\n",
       "        vertical-align: top;\n",
       "    }\n",
       "\n",
       "    .dataframe thead th {\n",
       "        text-align: right;\n",
       "    }\n",
       "</style>\n",
       "<table border=\"1\" class=\"dataframe\">\n",
       "  <thead>\n",
       "    <tr style=\"text-align: right;\">\n",
       "      <th>seek_help</th>\n",
       "      <th>Don't know</th>\n",
       "      <th>No</th>\n",
       "      <th>Yes</th>\n",
       "    </tr>\n",
       "    <tr>\n",
       "      <th>care_options</th>\n",
       "      <th></th>\n",
       "      <th></th>\n",
       "      <th></th>\n",
       "    </tr>\n",
       "  </thead>\n",
       "  <tbody>\n",
       "    <tr>\n",
       "      <th>No</th>\n",
       "      <td>26.853707</td>\n",
       "      <td>66.332665</td>\n",
       "      <td>6.813627</td>\n",
       "    </tr>\n",
       "    <tr>\n",
       "      <th>Not sure</th>\n",
       "      <td>52.396166</td>\n",
       "      <td>32.587859</td>\n",
       "      <td>15.015974</td>\n",
       "    </tr>\n",
       "    <tr>\n",
       "      <th>Yes</th>\n",
       "      <td>14.806378</td>\n",
       "      <td>47.380410</td>\n",
       "      <td>37.813212</td>\n",
       "    </tr>\n",
       "  </tbody>\n",
       "</table>\n",
       "</div>"
      ],
      "text/plain": [
       "seek_help     Don't know         No        Yes\n",
       "care_options                                  \n",
       "No             26.853707  66.332665   6.813627\n",
       "Not sure       52.396166  32.587859  15.015974\n",
       "Yes            14.806378  47.380410  37.813212"
      ]
     },
     "execution_count": 34,
     "metadata": {},
     "output_type": "execute_result"
    }
   ],
   "source": [
    "pd.crosstab(df['care_options'], df['seek_help'], normalize='index') * 100"
   ]
  },
  {
   "cell_type": "code",
   "execution_count": 69,
   "id": "4454d604-4b97-43ff-90b1-88328badb71e",
   "metadata": {},
   "outputs": [
    {
     "data": {
      "image/png": "[encoded data removed]",
      "text/plain": [
       "<Figure size 800x600 with 1 Axes>"
      ]
     },
     "metadata": {},
     "output_type": "display_data"
    }
   ],
   "source": [
    "import pandas as pd\n",
    "import matplotlib.pyplot as plt\n",
    "\n",
    "# Step 1: Crosstab with row-wise percentages\n",
    "ctab = pd.crosstab(df['care_options'], df['seek_help'], normalize='index') * 100\n",
    "\n",
    "# Step 2: Plot the stacked bar chart\n",
    "ax = ctab.plot(kind='bar', stacked=True, figsize=(8, 6), colormap='viridis')\n",
    "\n",
    "# Step 3: Add percentage labels inside each bar\n",
    "for i, option in enumerate(ctab.index):\n",
    "    y_offset = 0\n",
    "    for col in ctab.columns:\n",
    "        value = ctab.loc[option, col]\n",
    "        if value > 0:\n",
    "            ax.text(i, y_offset + value / 2, f'{value:.1f}%', ha='center', va='center', fontsize=10, color='white')\n",
    "        y_offset += value\n",
    "\n",
    "# Step 4: Final formatting\n",
    "plt.title(\"Seek Help by Availability of Care Options (%)\")\n",
    "plt.xlabel(\"Access to Care Options at Work\")\n",
    "plt.ylabel(\"Percentage\")\n",
    "plt.legend(title=\"Seek Help\")\n",
    "plt.xticks(rotation=0)\n",
    "plt.tight_layout()\n",
    "plt.show()\n"
   ]
  },
  {
   "cell_type": "markdown",
   "id": "a74e5709-70af-44da-8f27-67f1722edc9b",
   "metadata": {},
   "source": [
    "# Access to care options at work significantly increases the likelihood of employees seeking mental health support.\n",
    "# Among those who confirmed access to care options, 38% sought help, compared to just 7% among those without access.\n",
    "# Notably, over half (52%) of respondents who were unsure about care options also said “Don’t know” when asked if they would seek help — indicating that awareness matters as much as availability.\n",
    "# Employees with access to care options are 5× more likely to seek help.\n",
    "# Unawareness is a major barrier to mental health support."
   ]
  },
  {
   "cell_type": "markdown",
   "id": "ea4b4527-a5ef-4142-af06-a2b316a44c1b",
   "metadata": {},
   "source": [
    "# Does employer anonymity influence seeking help?"
   ]
  },
  {
   "cell_type": "code",
   "execution_count": 36,
   "id": "f16f45ad-2221-408b-b38f-c9baa1e7f7d6",
   "metadata": {},
   "outputs": [
    {
     "data": {
      "text/html": [
       "<div>\n",
       "<style scoped>\n",
       "    .dataframe tbody tr th:only-of-type {\n",
       "        vertical-align: middle;\n",
       "    }\n",
       "\n",
       "    .dataframe tbody tr th {\n",
       "        vertical-align: top;\n",
       "    }\n",
       "\n",
       "    .dataframe thead th {\n",
       "        text-align: right;\n",
       "    }\n",
       "</style>\n",
       "<table border=\"1\" class=\"dataframe\">\n",
       "  <thead>\n",
       "    <tr style=\"text-align: right;\">\n",
       "      <th>seek_help</th>\n",
       "      <th>Don't know</th>\n",
       "      <th>No</th>\n",
       "      <th>Yes</th>\n",
       "    </tr>\n",
       "    <tr>\n",
       "      <th>anonymity</th>\n",
       "      <th></th>\n",
       "      <th></th>\n",
       "      <th></th>\n",
       "    </tr>\n",
       "  </thead>\n",
       "  <tbody>\n",
       "    <tr>\n",
       "      <th>Don't know</th>\n",
       "      <td>37.177914</td>\n",
       "      <td>51.042945</td>\n",
       "      <td>11.779141</td>\n",
       "    </tr>\n",
       "    <tr>\n",
       "      <th>No</th>\n",
       "      <td>4.687500</td>\n",
       "      <td>85.937500</td>\n",
       "      <td>9.375000</td>\n",
       "    </tr>\n",
       "    <tr>\n",
       "      <th>Yes</th>\n",
       "      <td>15.322581</td>\n",
       "      <td>45.698925</td>\n",
       "      <td>38.978495</td>\n",
       "    </tr>\n",
       "  </tbody>\n",
       "</table>\n",
       "</div>"
      ],
      "text/plain": [
       "seek_help   Don't know         No        Yes\n",
       "anonymity                                   \n",
       "Don't know   37.177914  51.042945  11.779141\n",
       "No            4.687500  85.937500   9.375000\n",
       "Yes          15.322581  45.698925  38.978495"
      ]
     },
     "execution_count": 36,
     "metadata": {},
     "output_type": "execute_result"
    }
   ],
   "source": [
    "pd.crosstab(df['anonymity'], df['seek_help'], normalize='index') * 100"
   ]
  },
  {
   "cell_type": "code",
   "execution_count": 66,
   "id": "a74abae4-4837-4437-8e12-4cb7cb349916",
   "metadata": {},
   "outputs": [
    {
     "data": {
      "image/png": "[encoded data removed]",
      "text/plain": [
       "<Figure size 700x500 with 1 Axes>"
      ]
     },
     "metadata": {},
     "output_type": "display_data"
    }
   ],
   "source": [
    "# Step 1: Crosstab\n",
    "ctab = pd.crosstab(df['anonymity'], df['seek_help'], normalize='index') * 100\n",
    "\n",
    "# Step 2: Plot\n",
    "ax = ctab.plot(kind='bar', stacked=True, figsize=(7, 5), colormap='Accent')\n",
    "\n",
    "# Step 3: % labels\n",
    "for i, anon in enumerate(ctab.index):\n",
    "    y_offset = 0\n",
    "    for col in ctab.columns:\n",
    "        value = ctab.loc[anon, col]\n",
    "        ax.text(i, y_offset + value / 2, f'{value:.1f}%', ha='center', va='center', fontsize=10)\n",
    "        y_offset += value\n",
    "\n",
    "# Final touches\n",
    "plt.title(\"Seek Help by Anonymity (%)\")\n",
    "plt.xlabel(\"Anonymity Protected\")\n",
    "plt.ylabel(\"Percentage\")\n",
    "plt.legend(title=\"Seek Help\")\n",
    "plt.xticks(rotation=0)\n",
    "plt.tight_layout()\n",
    "plt.show()\n"
   ]
  },
  {
   "cell_type": "markdown",
   "id": "49511f75-f526-4444-a36e-0e2c20050b35",
   "metadata": {},
   "source": [
    "# Perceived anonymity strongly influences mental health help-seeking behavior.\n",
    "# Only 9.4% of employees who do not feel their anonymity is protected sought help, compared to 39% of those who do feel protected.\n",
    "# This suggests that building trust and privacy around mental health discussions is critical in encouraging support-seeking at work.\n",
    "# When employees trust that their anonymity is protected, they are 4x more likely to seek mental health support"
   ]
  },
  {
   "cell_type": "markdown",
   "id": "db2e7083-01b2-4f79-a577-fe568502dad0",
   "metadata": {},
   "source": [
    "Do people with more supportive supervisors seek help more?"
   ]
  },
  {
   "cell_type": "code",
   "execution_count": 37,
   "id": "997d00d8-19c1-4363-9363-7a1a804f7115",
   "metadata": {},
   "outputs": [
    {
     "data": {
      "text/html": [
       "<div>\n",
       "<style scoped>\n",
       "    .dataframe tbody tr th:only-of-type {\n",
       "        vertical-align: middle;\n",
       "    }\n",
       "\n",
       "    .dataframe tbody tr th {\n",
       "        vertical-align: top;\n",
       "    }\n",
       "\n",
       "    .dataframe thead th {\n",
       "        text-align: right;\n",
       "    }\n",
       "</style>\n",
       "<table border=\"1\" class=\"dataframe\">\n",
       "  <thead>\n",
       "    <tr style=\"text-align: right;\">\n",
       "      <th>treatment</th>\n",
       "      <th>No</th>\n",
       "      <th>Yes</th>\n",
       "    </tr>\n",
       "    <tr>\n",
       "      <th>supervisor</th>\n",
       "      <th></th>\n",
       "      <th></th>\n",
       "    </tr>\n",
       "  </thead>\n",
       "  <tbody>\n",
       "    <tr>\n",
       "      <th>No</th>\n",
       "      <td>47.692308</td>\n",
       "      <td>52.307692</td>\n",
       "    </tr>\n",
       "    <tr>\n",
       "      <th>Some of them</th>\n",
       "      <td>48.424069</td>\n",
       "      <td>51.575931</td>\n",
       "    </tr>\n",
       "    <tr>\n",
       "      <th>Yes</th>\n",
       "      <td>51.562500</td>\n",
       "      <td>48.437500</td>\n",
       "    </tr>\n",
       "  </tbody>\n",
       "</table>\n",
       "</div>"
      ],
      "text/plain": [
       "treatment            No        Yes\n",
       "supervisor                        \n",
       "No            47.692308  52.307692\n",
       "Some of them  48.424069  51.575931\n",
       "Yes           51.562500  48.437500"
      ]
     },
     "execution_count": 37,
     "metadata": {},
     "output_type": "execute_result"
    }
   ],
   "source": [
    "pd.crosstab(df['supervisor'], df['treatment'], normalize= 'index')*100"
   ]
  },
  {
   "cell_type": "code",
   "execution_count": 67,
   "id": "f1465db7-99f8-489b-9451-1768557cf858",
   "metadata": {},
   "outputs": [
    {
     "data": {
      "image/png": "[encoded data removed]",
      "text/plain": [
       "<Figure size 800x600 with 1 Axes>"
      ]
     },
     "metadata": {},
     "output_type": "display_data"
    }
   ],
   "source": [
    "import matplotlib.pyplot as plt\n",
    "import pandas as pd\n",
    "\n",
    "# Step 1: Crosstab with row-wise percentages\n",
    "ctab = pd.crosstab(df['supervisor'], df['treatment'], normalize='index') * 100\n",
    "\n",
    "# Step 2: Plot stacked bar chart\n",
    "ax = ctab.plot(kind='bar', stacked=True, figsize=(8, 6), colormap='coolwarm')\n",
    "\n",
    "# Step 3: Add percentage labels inside bars\n",
    "for i, label in enumerate(ctab.index):\n",
    "    y_offset = 0\n",
    "    for col in ctab.columns:\n",
    "        value = ctab.loc[label, col]\n",
    "        if value > 0:\n",
    "            ax.text(i, y_offset + value / 2, f'{value:.1f}%', ha='center', va='center', fontsize=10)\n",
    "        y_offset += value\n",
    "\n",
    "# Step 4: Final formatting\n",
    "plt.title(\"Treatment by Supervisor Support (%)\")\n",
    "plt.xlabel(\"Comfort Discussing with Supervisor\")\n",
    "plt.ylabel(\"Percentage\")\n",
    "plt.legend(title=\"Treatment\")\n",
    "plt.xticks(rotation=0)\n",
    "plt.tight_layout()\n",
    "plt.show()\n"
   ]
  },
  {
   "cell_type": "markdown",
   "id": "915820e4-31f7-4f17-9752-13641996ac28",
   "metadata": {},
   "source": [
    "# Comfort discussing mental health with a supervisor does not appear to strongly influence whether an employee seeks treatment.\n",
    "# The chart shows that respondents across all levels of supervisor support — whether fully comfortable, somewhat comfortable, or not at all — have nearly equal treatment-seeking rates (ranging from 48% to 52%).\n",
    "# This suggests that other factors, such as benefits, anonymity, or personal/family history, may play a more significant role in driving treatment-seeking behavior."
   ]
  },
  {
   "cell_type": "markdown",
   "id": "6b5581a7-dcb1-4508-a779-cd26f3e593f9",
   "metadata": {},
   "source": [
    "Do people who work remotely seek more or less treatment?"
   ]
  },
  {
   "cell_type": "code",
   "execution_count": 71,
   "id": "a5b65447-1346-4a06-b99e-8b6f45320db8",
   "metadata": {},
   "outputs": [
    {
     "data": {
      "text/html": [
       "<div>\n",
       "<style scoped>\n",
       "    .dataframe tbody tr th:only-of-type {\n",
       "        vertical-align: middle;\n",
       "    }\n",
       "\n",
       "    .dataframe tbody tr th {\n",
       "        vertical-align: top;\n",
       "    }\n",
       "\n",
       "    .dataframe thead th {\n",
       "        text-align: right;\n",
       "    }\n",
       "</style>\n",
       "<table border=\"1\" class=\"dataframe\">\n",
       "  <thead>\n",
       "    <tr style=\"text-align: right;\">\n",
       "      <th>treatment</th>\n",
       "      <th>No</th>\n",
       "      <th>Yes</th>\n",
       "    </tr>\n",
       "    <tr>\n",
       "      <th>remote_work</th>\n",
       "      <th></th>\n",
       "      <th></th>\n",
       "    </tr>\n",
       "  </thead>\n",
       "  <tbody>\n",
       "    <tr>\n",
       "      <th>No</th>\n",
       "      <td>50.340909</td>\n",
       "      <td>49.659091</td>\n",
       "    </tr>\n",
       "    <tr>\n",
       "      <th>Yes</th>\n",
       "      <td>47.439353</td>\n",
       "      <td>52.560647</td>\n",
       "    </tr>\n",
       "  </tbody>\n",
       "</table>\n",
       "</div>"
      ],
      "text/plain": [
       "treatment           No        Yes\n",
       "remote_work                      \n",
       "No           50.340909  49.659091\n",
       "Yes          47.439353  52.560647"
      ]
     },
     "execution_count": 71,
     "metadata": {},
     "output_type": "execute_result"
    }
   ],
   "source": [
    "pd.crosstab(df['remote_work'], df['treatment'], normalize='index') * 100"
   ]
  },
  {
   "cell_type": "code",
   "execution_count": 72,
   "id": "7f78f086-4d61-4506-99c4-a448ca4d1b2b",
   "metadata": {},
   "outputs": [
    {
     "data": {
      "image/png": "[encoded data removed]",
      "text/plain": [
       "<Figure size 700x500 with 1 Axes>"
      ]
     },
     "metadata": {},
     "output_type": "display_data"
    }
   ],
   "source": [
    "import pandas as pd\n",
    "import matplotlib.pyplot as plt\n",
    "\n",
    "# Step 1: Crosstab with row-wise percentages\n",
    "ctab = pd.crosstab(df['remote_work'], df['treatment'], normalize='index') * 100\n",
    "\n",
    "# Step 2: Plot stacked bar chart\n",
    "ax = ctab.plot(kind='bar', stacked=True, figsize=(7, 5), colormap='cool')\n",
    "\n",
    "# Step 3: Add % labels\n",
    "for i, label in enumerate(ctab.index):\n",
    "    y_offset = 0\n",
    "    for col in ctab.columns:\n",
    "        value = ctab.loc[label, col]\n",
    "        if value > 0:\n",
    "            ax.text(i, y_offset + value / 2, f'{value:.1f}%', ha='center', va='center', fontsize=10, color='white')\n",
    "        y_offset += value\n",
    "\n",
    "# Step 4: Final formatting\n",
    "plt.title(\"Treatment by Remote Work Status (%)\")\n",
    "plt.xlabel(\"Remote Work Allowed\")\n",
    "plt.ylabel(\"Percentage\")\n",
    "plt.legend(title=\"Treatment\")\n",
    "plt.xticks(rotation=0)\n",
    "plt.tight_layout()\n",
    "plt.show()\n"
   ]
  },
  {
   "cell_type": "markdown",
   "id": "9aa82161-4b24-4259-9277-909fbcce0fba",
   "metadata": {},
   "source": [
    "# Remote work flexibility appears to positively influence mental health treatment-seeking.\n",
    "# Among employees who are allowed to work remotely, a higher percentage seek treatment compared to those who are not.\n",
    "# This may suggest that greater work-life flexibility encourages openness to mental health care, or that supportive #work cultures enabling remote work also reduce stigma."
   ]
  },
  {
   "cell_type": "code",
   "execution_count": 74,
   "id": "7e3275da-6e15-4bcc-ac16-13de37dd6dac",
   "metadata": {},
   "outputs": [
    {
     "data": {
      "text/plain": [
       "<Figure size 1000x600 with 0 Axes>"
      ]
     },
     "metadata": {},
     "output_type": "display_data"
    },
    {
     "data": {
      "text/plain": [
       "<Figure size 1000x600 with 0 Axes>"
      ]
     },
     "metadata": {},
     "output_type": "display_data"
    },
    {
     "data": {
      "text/plain": [
       "<Figure size 1000x600 with 0 Axes>"
      ]
     },
     "metadata": {},
     "output_type": "display_data"
    },
    {
     "data": {
      "text/plain": [
       "<Figure size 1000x600 with 0 Axes>"
      ]
     },
     "metadata": {},
     "output_type": "display_data"
    },
    {
     "data": {
      "text/plain": [
       "<Figure size 1000x600 with 0 Axes>"
      ]
     },
     "metadata": {},
     "output_type": "display_data"
    },
    {
     "data": {
      "text/plain": [
       "<Figure size 1000x600 with 0 Axes>"
      ]
     },
     "metadata": {},
     "output_type": "display_data"
    },
    {
     "data": {
      "text/plain": [
       "<Figure size 1000x600 with 0 Axes>"
      ]
     },
     "metadata": {},
     "output_type": "display_data"
    }
   ],
   "source": [
    "# First, let's define the save_chart_with_labels function\n",
    "def save_chart_with_labels(df, row, col, title, xlabel, ylabel, filename):\n",
    "    \"\"\"\n",
    "    Create and save a chart showing the relationship between two categorical variables.\n",
    "    \n",
    "    Parameters:\n",
    "    df (DataFrame): The pandas DataFrame containing the data\n",
    "    row (str): The column name to use for rows (x-axis)\n",
    "    col (str): The column name to use for columns (to calculate percentages)\n",
    "    title (str): The title of the chart\n",
    "    xlabel (str): The label for the x-axis\n",
    "    ylabel (str): The label for the y-axis\n",
    "    filename (str): The filename to save the chart\n",
    "    \"\"\"\n",
    "    import matplotlib.pyplot as plt\n",
    "    import seaborn as sns\n",
    "    \n",
    "    # Create a cross-tabulation and calculate percentages\n",
    "    ct = pd.crosstab(df[row], df[col], normalize='index') * 100\n",
    "    \n",
    "    # Create the plot\n",
    "    plt.figure(figsize=(10, 6))\n",
    "    ct.plot(kind='bar', stacked=True)\n",
    "    \n",
    "    plt.title(title)\n",
    "    plt.xlabel(xlabel)\n",
    "    plt.ylabel(ylabel)\n",
    "    plt.legend(title=col)\n",
    "    plt.tight_layout()\n",
    "    \n",
    "    # Save the figure\n",
    "    plt.savefig(filename)\n",
    "    plt.close()\n",
    "\n",
    "# Now the rest of your code will work\n",
    "# Chart 1: Country vs Treatment (Top 5 Countries)\n",
    "top_countries = df['Country'].value_counts().head(5).index\n",
    "df_top = df[df['Country'].isin(top_countries)]\n",
    "\n",
    "save_chart_with_labels(\n",
    "    df_top,\n",
    "    row='Country',\n",
    "    col='treatment',\n",
    "    title='Treatment by Country (%)',\n",
    "    xlabel='Country',\n",
    "    ylabel='Percentage',\n",
    "    filename='country_vs_treatment.png'\n",
    ")\n",
    "\n",
    "# Chart 2: Family History vs Treatment\n",
    "save_chart_with_labels(\n",
    "    df,\n",
    "    row='family_history',\n",
    "    col='treatment',\n",
    "    title='Treatment by Family History (%)',\n",
    "    xlabel='Family History of Mental Illness',\n",
    "    ylabel='Percentage',\n",
    "    filename='family_history_vs_treatment.png'\n",
    ")\n",
    "\n",
    "# Chart 3: Benefits vs Treatment\n",
    "save_chart_with_labels(\n",
    "    df,\n",
    "    row='benefits',\n",
    "    col='treatment',\n",
    "    title='Treatment by Benefits Availability (%)',\n",
    "    xlabel='Access to Mental Health Benefits',\n",
    "    ylabel='Percentage',\n",
    "    filename='benefits_vs_treatment.png'\n",
    ")\n",
    "\n",
    "# Chart 4: Anonymity vs Seek Help\n",
    "save_chart_with_labels(\n",
    "    df,\n",
    "    row='anonymity',\n",
    "    col='seek_help',\n",
    "    title='Seek Help by Anonymity Protection (%)',\n",
    "    xlabel='Anonymity at Workplace',\n",
    "    ylabel='Percentage',\n",
    "    filename='anonymity_vs_seek_help.png'\n",
    ")\n",
    "\n",
    "# Chart 5: Supervisor vs Treatment\n",
    "save_chart_with_labels(\n",
    "    df,\n",
    "    row='supervisor',\n",
    "    col='treatment',\n",
    "    title='Treatment by Supervisor Support (%)',\n",
    "    xlabel='Comfort Discussing with Supervisor',\n",
    "    ylabel='Percentage',\n",
    "    filename='supervisor_vs_treatment.png'\n",
    ")\n",
    "\n",
    "# Chart 6: Care Options vs Seek Help\n",
    "save_chart_with_labels(\n",
    "    df,\n",
    "    row='care_options',\n",
    "    col='seek_help',\n",
    "    title='Seek Help by Access to Care Options (%)',\n",
    "    xlabel='Availability of Mental Health Care Options',\n",
    "    ylabel='Percentage',\n",
    "    filename='care_options_vs_seek_help.png'\n",
    ")\n",
    "\n",
    "# Chart 7: Remote Work vs Treatment\n",
    "save_chart_with_labels(\n",
    "    df,\n",
    "    row='remote_work',\n",
    "    col='treatment',\n",
    "    title='Treatment by Remote Work Status (%)',\n",
    "    xlabel='Remote Work Allowed',\n",
    "    ylabel='Percentage',\n",
    "    filename='remote_work_vs_treatment.png'\n",
    ")"
   ]
  },
  {
   "cell_type": "code",
   "execution_count": 75,
   "id": "7b574206-b25c-4b50-8bc0-4d17a6beae8d",
   "metadata": {},
   "outputs": [
    {
     "data": {
      "text/plain": [
       "['.anaconda',\n",
       " '.conda',\n",
       " '.condarc',\n",
       " '.continuum',\n",
       " '.dropbox_bi',\n",
       " '.ipynb_checkpoints',\n",
       " '.ipython',\n",
       " '.jupyter',\n",
       " '.matplotlib',\n",
       " '.python_history',\n",
       " '3D Objects',\n",
       " 'anaconda3',\n",
       " 'anaconda_projects',\n",
       " 'anonymity_vs_seek_help.png',\n",
       " 'AppData',\n",
       " 'Application Data',\n",
       " 'benefits_vs_treatment.png',\n",
       " 'care_options_vs_seek_help.png',\n",
       " 'Contacts',\n",
       " 'Cookies',\n",
       " 'country_vs_treatment.png',\n",
       " 'Documents',\n",
       " 'Downloads',\n",
       " 'Dropbox',\n",
       " 'family_history_vs_treatment.png',\n",
       " 'Favorites',\n",
       " 'IntelGraphicsProfiles',\n",
       " 'Links',\n",
       " 'Local Settings',\n",
       " 'Mental_Health_working_ jupyternotebook.ipynb',\n",
       " 'Music',\n",
       " 'My Documents',\n",
       " 'NetHood',\n",
       " 'NTUSER.DAT',\n",
       " 'ntuser.dat.LOG1',\n",
       " 'ntuser.dat.LOG2',\n",
       " 'NTUSER.DAT{2ad838bc-efea-11ee-a54d-000d3a94eaa1}.TM.blf',\n",
       " 'NTUSER.DAT{2ad838bc-efea-11ee-a54d-000d3a94eaa1}.TMContainer00000000000000000001.regtrans-ms',\n",
       " 'NTUSER.DAT{2ad838bc-efea-11ee-a54d-000d3a94eaa1}.TMContainer00000000000000000002.regtrans-ms',\n",
       " 'ntuser.ini',\n",
       " 'OneDrive',\n",
       " 'pip',\n",
       " 'Practice.ipynb',\n",
       " 'PrintHood',\n",
       " 'Project 1- Uber Data Analysis',\n",
       " 'Project 2 - Mental health tech survey',\n",
       " 'Recent',\n",
       " 'remote_work_vs_treatment.png',\n",
       " 'Saved Games',\n",
       " 'Searches',\n",
       " 'SendTo',\n",
       " 'Start Menu',\n",
       " 'supervisor_vs_treatment.png',\n",
       " 'Templates',\n",
       " 'Videos']"
      ]
     },
     "execution_count": 75,
     "metadata": {},
     "output_type": "execute_result"
    }
   ],
   "source": [
    "import os\n",
    "os.listdir()"
   ]
  },
  {
   "cell_type": "markdown",
   "id": "cae72247-6679-43e7-afd4-b9f22f2b8563",
   "metadata": {},
   "source": [
    "# Final Chart Summary:\n",
    "Chart Title\tFile/Image Name\tKey Insight\n",
    "1. Treatment by Country (%)\tcountry_vs_treatment.png\tU.S. and Canada have higher treatment-seeking rates. Netherlands shows reluctance.\n",
    "2. Treatment by Family History (%)\tfamily_history_vs_treatment.png\tThose with family history are much more likely to seek treatment (75%).\n",
    "3. Treatment by Benefits (%)\tbenefits_vs_treatment.png\tAccess to employer benefits increases treatment-seeking likelihood.\n",
    "4. Seek Help by Anonymity (%)\tanonymity_vs_seek_help.png\tAnonymity boosts help-seeking; without it, only 9.4% seek help.\n",
    "5. Treatment by Supervisor Support (%)\tsupervisor_vs_treatment.png\tNo strong correlation observed between supervisor comfort and seeking treatment.\n",
    "6. Seek Help by Care Options (%)\tcare_options_vs_seek_help.png\tAvailability of care options strongly encourages seeking help.\n",
    "7. Treatment by Remote Work Status (%)\tremote_work_vs_treatment.png\tSlightly higher treatment rates among those allowed to work remotely."
   ]
  },
  {
   "cell_type": "markdown",
   "id": "ce799264-f04e-4a80-94ca-ec194038d229",
   "metadata": {},
   "source": [
    "### 🧠 <span style=\"color:darkslateblue\"><b>Project: Mental Health in Tech Survey — Insight Summary</b></span>\n",
    "\n",
    "---\n",
    "\n",
    "#### 🌍 <span style=\"color:teal\"><b>1. Treatment by Country</b></span>  \n",
    "<span style=\"color:black\">United States and Canada show relatively higher rates of treatment-seeking behavior, while the Netherlands has the highest percentage of people avoiding treatment.</span>\n",
    "\n",
    "#### 👨‍👩‍👧‍👦 <span style=\"color:darkgreen\"><b>2. Family History vs Treatment</b></span>  \n",
    "<span style=\"color:black\">Individuals with a family history of mental illness are <b>3× more likely</b> to seek treatment compared to those without.</span>\n",
    "\n",
    "#### 🏢 <span style=\"color:darkorange\"><b>3. Benefits vs Treatment</b></span>  \n",
    "<span style=\"color:black\">Access to employer-provided mental health benefits significantly boosts the likelihood of seeking treatment (64% vs 36%).</span>\n",
    "\n",
    "#### 👁️ <span style=\"color:crimson\"><b>4. Anonymity vs Seek Help</b></span>  \n",
    "<span style=\"color:black\">When anonymity is protected, nearly <b>double the respondents</b> feel comfortable seeking help. Without it, most avoid help or say \"Don’t know\".</span>\n",
    "\n",
    "#### 🧑‍💼 <span style=\"color:royalblue\"><b>5. Supervisor Support vs Treatment</b></span>  \n",
    "<span style=\"color:black\">Surprisingly, comfort with discussing issues with supervisors shows <b>no strong effect</b> on treatment-seeking behavior.</span>\n",
    "\n",
    "#### 🩺 <span style=\"color:mediumvioletred\"><b>6. Care Options vs Seek Help</b></span>  \n",
    "<span style=\"color:black\">Availability of care options leads to the highest help-seeking (38%). Those unaware of options showed the lowest response rate.</span>\n",
    "\n",
    "#### 🏠 <span style=\"color:indigo\"><b>7. Remote Work vs Treatment</b></span>  \n",
    "<span style=\"color:black\">Employees allowed to work remotely are slightly more likely to seek treatment, though the difference is modest (~5%).</span>\n",
    "\n",
    "---\n",
    "\n",
    "✅ <span style=\"color:green\"><b>Conclusion:</b></span>  \n",
    "<span style=\"color:black\">Workplace policies — especially those related to <b>benefits, anonymity, and care availability</b> — have a major impact on mental health behavior. Investing in awareness and access may lead to a more supported workforce.</span>\n"
   ]
  },
  {
   "cell_type": "code",
   "execution_count": null,
   "id": "3668fbcf-40b9-4ebf-878c-767ea434c3bb",
   "metadata": {},
   "outputs": [],
   "source": []
  }
 ],
 "metadata": {
  "kernelspec": {
   "display_name": "Python [conda env:base] *",
   "language": "python",
   "name": "conda-base-py"
  },
  "language_info": {
   "codemirror_mode": {
    "name": "ipython",
    "version": 3
   },
   "file_extension": ".py",
   "mimetype": "text/x-python",
   "name": "python",
   "nbconvert_exporter": "python",
   "pygments_lexer": "ipython3",
   "version": "3.12.7"
  }
 },
 "nbformat": 4,
 "nbformat_minor": 5
}
